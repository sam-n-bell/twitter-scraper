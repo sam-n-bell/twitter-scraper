{
  "nbformat": 4,
  "nbformat_minor": 0,
  "metadata": {
    "colab": {
      "name": "twitter scraper.ipynb",
      "provenance": []
    },
    "kernelspec": {
      "name": "python3",
      "display_name": "Python 3"
    }
  },
  "cells": [
    {
      "cell_type": "code",
      "metadata": {
        "id": "TJg7UBVMxQqK",
        "colab_type": "code",
        "outputId": "6f34063b-c241-4b9c-b5e6-ab012c985de2",
        "colab": {
          "base_uri": "https://localhost:8080/",
          "height": 258
        }
      },
      "source": [
        "!pip install python-twitter"
      ],
      "execution_count": 0,
      "outputs": [
        {
          "output_type": "stream",
          "text": [
            "Collecting python-twitter\n",
            "\u001b[?25l  Downloading https://files.pythonhosted.org/packages/b3/a9/2eb36853d8ca49a70482e2332aa5082e09b3180391671101b1612e3aeaf1/python_twitter-3.5-py2.py3-none-any.whl (67kB)\n",
            "\u001b[K     |████████████████████████████████| 71kB 2.3MB/s \n",
            "\u001b[?25hRequirement already satisfied: requests-oauthlib in /usr/local/lib/python3.6/dist-packages (from python-twitter) (1.3.0)\n",
            "Requirement already satisfied: future in /usr/local/lib/python3.6/dist-packages (from python-twitter) (0.16.0)\n",
            "Requirement already satisfied: requests in /usr/local/lib/python3.6/dist-packages (from python-twitter) (2.21.0)\n",
            "Requirement already satisfied: oauthlib>=3.0.0 in /usr/local/lib/python3.6/dist-packages (from requests-oauthlib->python-twitter) (3.1.0)\n",
            "Requirement already satisfied: urllib3<1.25,>=1.21.1 in /usr/local/lib/python3.6/dist-packages (from requests->python-twitter) (1.24.3)\n",
            "Requirement already satisfied: certifi>=2017.4.17 in /usr/local/lib/python3.6/dist-packages (from requests->python-twitter) (2020.4.5.1)\n",
            "Requirement already satisfied: chardet<3.1.0,>=3.0.2 in /usr/local/lib/python3.6/dist-packages (from requests->python-twitter) (3.0.4)\n",
            "Requirement already satisfied: idna<2.9,>=2.5 in /usr/local/lib/python3.6/dist-packages (from requests->python-twitter) (2.8)\n",
            "Installing collected packages: python-twitter\n",
            "Successfully installed python-twitter-3.5\n"
          ],
          "name": "stdout"
        }
      ]
    },
    {
      "cell_type": "code",
      "metadata": {
        "id": "c_vVhocyyCEM",
        "colab_type": "code",
        "colab": {}
      },
      "source": [
        "def get_tweets(api=None, screen_name=None):\n",
        "    timeline = api.GetUserTimeline(screen_name=screen_name, count=200)\n",
        "    earliest_tweet = min(timeline, key=lambda x: x.id).id\n",
        "    print(\"getting tweets before:\", earliest_tweet)\n",
        "\n",
        "    while True:\n",
        "        tweets = api.GetUserTimeline(\n",
        "            screen_name=screen_name, max_id=earliest_tweet, count=200\n",
        "        )\n",
        "        new_earliest = min(tweets, key=lambda x: x.id).id\n",
        "\n",
        "        if not tweets or new_earliest == earliest_tweet:\n",
        "            break\n",
        "        else:\n",
        "            earliest_tweet = new_earliest\n",
        "            print(\"getting tweets before:\", earliest_tweet)\n",
        "            timeline += tweets\n",
        "\n",
        "    return timeline\n"
      ],
      "execution_count": 0,
      "outputs": []
    },
    {
      "cell_type": "code",
      "metadata": {
        "id": "GKd5y9jExU3W",
        "colab_type": "code",
        "colab": {}
      },
      "source": [
        "import numpy as np\n",
        "import twitter, re, datetime, pandas as pd\n",
        "\n",
        "ACCESS_TOKEN = \"\"\n",
        "ACCESS_TOKEN_SECRET = \"\"\n",
        "CONSUMER_KEY = \"\"\n",
        "CONSUMER_SECRET = \"\"\n",
        "\n",
        "twitter_keys = {\n",
        "    'consumer_key':        CONSUMER_KEY,\n",
        "    'consumer_secret':     CONSUMER_SECRET,\n",
        "    'access_token_key':    ACCESS_TOKEN,\n",
        "    'access_token_secret': ACCESS_TOKEN_SECRET\n",
        "}\n",
        "\n",
        "api = twitter.Api(\n",
        "    consumer_key         =   twitter_keys['consumer_key'],\n",
        "    consumer_secret      =   twitter_keys['consumer_secret'],\n",
        "    access_token_key     =   twitter_keys['access_token_key'],\n",
        "    access_token_secret  =   twitter_keys['access_token_secret'],\n",
        "    tweet_mode = 'extended',\n",
        "    sleep_on_rate_limit=True\n",
        ")"
      ],
      "execution_count": 0,
      "outputs": []
    },
    {
      "cell_type": "code",
      "metadata": {
        "id": "D82-agywzEZ6",
        "colab_type": "code",
        "outputId": "742e9348-b5da-4c61-d37f-7fa241476099",
        "colab": {
          "base_uri": "https://localhost:8080/",
          "height": 306
        }
      },
      "source": [
        "handleName = \"JoeBiden\"\n",
        "timeline = get_tweets(api=api, screen_name=handleName)"
      ],
      "execution_count": 0,
      "outputs": [
        {
          "output_type": "stream",
          "text": [
            "getting tweets before: 1246890352025444353\n",
            "getting tweets before: 1239353763820961792\n",
            "getting tweets before: 1233198883448082432\n",
            "getting tweets before: 1226677160103960576\n",
            "getting tweets before: 1217546999433744386\n",
            "getting tweets before: 1206338536317865986\n",
            "getting tweets before: 1197185331138891778\n",
            "getting tweets before: 1188474466155802624\n",
            "getting tweets before: 1181291856480604160\n",
            "getting tweets before: 1172336799688978432\n",
            "getting tweets before: 1164369400331415557\n",
            "getting tweets before: 1155914818202865665\n",
            "getting tweets before: 1146641031892365312\n",
            "getting tweets before: 1137118382245974020\n",
            "getting tweets before: 1118986242501283849\n",
            "getting tweets before: 968213300956880897\n",
            "getting tweets before: 916066235850416130\n"
          ],
          "name": "stdout"
        }
      ]
    },
    {
      "cell_type": "code",
      "metadata": {
        "id": "_XHHqkeOz0vv",
        "colab_type": "code",
        "outputId": "c34881df-a8e9-44f5-f9ae-2cf2ebbd373e",
        "colab": {
          "base_uri": "https://localhost:8080/",
          "height": 71
        }
      },
      "source": [
        "userTweets = [tweet._json for tweet in timeline]\n",
        "print(len(userTweets))\n",
        "print(userTweets[0])"
      ],
      "execution_count": 0,
      "outputs": [
        {
          "output_type": "stream",
          "text": [
            "3265\n",
            "{'created_at': 'Mon Apr 27 16:15:00 +0000 2020', 'id': 1254806260324749315, 'id_str': '1254806260324749315', 'full_text': 'COVID-19 can hit anyone, anywhere — but it doesn’t affect every community equally. This afternoon, join Senator @KamalaHarris and @SymoneDSanders for a discussion on its disproportionate impact on communities of color.\\n\\nTune in at 3:30 PM ET: https://t.co/xk0GcSpr50 https://t.co/lzco7XHP53', 'truncated': False, 'display_text_range': [0, 266], 'entities': {'hashtags': [], 'symbols': [], 'user_mentions': [{'screen_name': 'KamalaHarris', 'name': 'Kamala Harris', 'id': 30354991, 'id_str': '30354991', 'indices': [112, 125]}, {'screen_name': 'SymoneDSanders', 'name': 'Symone D. Sanders', 'id': 2434051392, 'id_str': '2434051392', 'indices': [130, 145]}], 'urls': [{'url': 'https://t.co/xk0GcSpr50', 'expanded_url': 'http://JoeBiden.com/Live', 'display_url': 'JoeBiden.com/Live', 'indices': [243, 266]}], 'media': [{'id': 1254804759502086145, 'id_str': '1254804759502086145', 'indices': [267, 290], 'media_url': 'http://pbs.twimg.com/media/EWn2R9CXYAEiY_P.jpg', 'media_url_https': 'https://pbs.twimg.com/media/EWn2R9CXYAEiY_P.jpg', 'url': 'https://t.co/lzco7XHP53', 'display_url': 'pic.twitter.com/lzco7XHP53', 'expanded_url': 'https://twitter.com/JoeBiden/status/1254806260324749315/photo/1', 'type': 'photo', 'sizes': {'thumb': {'w': 150, 'h': 150, 'resize': 'crop'}, 'large': {'w': 2048, 'h': 1154, 'resize': 'fit'}, 'medium': {'w': 1200, 'h': 676, 'resize': 'fit'}, 'small': {'w': 680, 'h': 383, 'resize': 'fit'}}}]}, 'extended_entities': {'media': [{'id': 1254804759502086145, 'id_str': '1254804759502086145', 'indices': [267, 290], 'media_url': 'http://pbs.twimg.com/media/EWn2R9CXYAEiY_P.jpg', 'media_url_https': 'https://pbs.twimg.com/media/EWn2R9CXYAEiY_P.jpg', 'url': 'https://t.co/lzco7XHP53', 'display_url': 'pic.twitter.com/lzco7XHP53', 'expanded_url': 'https://twitter.com/JoeBiden/status/1254806260324749315/photo/1', 'type': 'photo', 'sizes': {'thumb': {'w': 150, 'h': 150, 'resize': 'crop'}, 'large': {'w': 2048, 'h': 1154, 'resize': 'fit'}, 'medium': {'w': 1200, 'h': 676, 'resize': 'fit'}, 'small': {'w': 680, 'h': 383, 'resize': 'fit'}}}]}, 'source': '<a href=\"https://about.twitter.com/products/tweetdeck\" rel=\"nofollow\">TweetDeck</a>', 'in_reply_to_status_id': None, 'in_reply_to_status_id_str': None, 'in_reply_to_user_id': None, 'in_reply_to_user_id_str': None, 'in_reply_to_screen_name': None, 'user': {'id': 939091, 'id_str': '939091', 'name': 'Joe Biden', 'screen_name': 'JoeBiden', 'location': 'Wilmington, DE', 'description': 'Senator, Vice President, 2020 candidate for President of the United States, husband to @DrBiden, proud father & grandfather. Loves ice cream, aviators & @Amtrak', 'url': 'https://t.co/UClrPuJpyZ', 'entities': {'url': {'urls': [{'url': 'https://t.co/UClrPuJpyZ', 'expanded_url': 'http://joebiden.com', 'display_url': 'joebiden.com', 'indices': [0, 23]}]}, 'description': {'urls': []}}, 'protected': False, 'followers_count': 5231103, 'friends_count': 26, 'listed_count': 17261, 'created_at': 'Sun Mar 11 17:51:24 +0000 2007', 'favourites_count': 18, 'utc_offset': None, 'time_zone': None, 'geo_enabled': False, 'verified': True, 'statuses_count': 4560, 'lang': None, 'contributors_enabled': False, 'is_translator': False, 'is_translation_enabled': False, 'profile_background_color': '565959', 'profile_background_image_url': 'http://abs.twimg.com/images/themes/theme1/bg.png', 'profile_background_image_url_https': 'https://abs.twimg.com/images/themes/theme1/bg.png', 'profile_background_tile': True, 'profile_image_url': 'http://pbs.twimg.com/profile_images/1235244704859664385/oneP6BrA_normal.jpg', 'profile_image_url_https': 'https://pbs.twimg.com/profile_images/1235244704859664385/oneP6BrA_normal.jpg', 'profile_banner_url': 'https://pbs.twimg.com/profile_banners/939091/1569000846', 'profile_link_color': '233F94', 'profile_sidebar_border_color': 'FFFFFF', 'profile_sidebar_fill_color': 'EBEBFF', 'profile_text_color': '323232', 'profile_use_background_image': True, 'has_extended_profile': False, 'default_profile': False, 'default_profile_image': False, 'following': False, 'follow_request_sent': False, 'notifications': False, 'translator_type': 'none'}, 'geo': None, 'coordinates': None, 'place': None, 'contributors': None, 'is_quote_status': False, 'retweet_count': 1595, 'favorite_count': 5123, 'favorited': False, 'retweeted': False, 'possibly_sensitive': False, 'lang': 'en'}\n"
          ],
          "name": "stdout"
        }
      ]
    },
    {
      "cell_type": "code",
      "metadata": {
        "id": "NL4EktEXB1Vb",
        "colab_type": "code",
        "outputId": "9159a063-9ff0-4db4-a0a3-d9a0886ebc26",
        "colab": {
          "base_uri": "https://localhost:8080/",
          "height": 71
        }
      },
      "source": [
        "userTweets = [d for d in userTweets if 'RT' not in d['full_text'][:3]]\n",
        "print(len(userTweets))\n",
        "print(userTweets[0])"
      ],
      "execution_count": 0,
      "outputs": [
        {
          "output_type": "stream",
          "text": [
            "3077\n",
            "{'created_at': 'Mon Apr 27 16:15:00 +0000 2020', 'id': 1254806260324749315, 'id_str': '1254806260324749315', 'full_text': 'COVID-19 can hit anyone, anywhere — but it doesn’t affect every community equally. This afternoon, join Senator @KamalaHarris and @SymoneDSanders for a discussion on its disproportionate impact on communities of color.\\n\\nTune in at 3:30 PM ET: https://t.co/xk0GcSpr50 https://t.co/lzco7XHP53', 'truncated': False, 'display_text_range': [0, 266], 'entities': {'hashtags': [], 'symbols': [], 'user_mentions': [{'screen_name': 'KamalaHarris', 'name': 'Kamala Harris', 'id': 30354991, 'id_str': '30354991', 'indices': [112, 125]}, {'screen_name': 'SymoneDSanders', 'name': 'Symone D. Sanders', 'id': 2434051392, 'id_str': '2434051392', 'indices': [130, 145]}], 'urls': [{'url': 'https://t.co/xk0GcSpr50', 'expanded_url': 'http://JoeBiden.com/Live', 'display_url': 'JoeBiden.com/Live', 'indices': [243, 266]}], 'media': [{'id': 1254804759502086145, 'id_str': '1254804759502086145', 'indices': [267, 290], 'media_url': 'http://pbs.twimg.com/media/EWn2R9CXYAEiY_P.jpg', 'media_url_https': 'https://pbs.twimg.com/media/EWn2R9CXYAEiY_P.jpg', 'url': 'https://t.co/lzco7XHP53', 'display_url': 'pic.twitter.com/lzco7XHP53', 'expanded_url': 'https://twitter.com/JoeBiden/status/1254806260324749315/photo/1', 'type': 'photo', 'sizes': {'thumb': {'w': 150, 'h': 150, 'resize': 'crop'}, 'large': {'w': 2048, 'h': 1154, 'resize': 'fit'}, 'medium': {'w': 1200, 'h': 676, 'resize': 'fit'}, 'small': {'w': 680, 'h': 383, 'resize': 'fit'}}}]}, 'extended_entities': {'media': [{'id': 1254804759502086145, 'id_str': '1254804759502086145', 'indices': [267, 290], 'media_url': 'http://pbs.twimg.com/media/EWn2R9CXYAEiY_P.jpg', 'media_url_https': 'https://pbs.twimg.com/media/EWn2R9CXYAEiY_P.jpg', 'url': 'https://t.co/lzco7XHP53', 'display_url': 'pic.twitter.com/lzco7XHP53', 'expanded_url': 'https://twitter.com/JoeBiden/status/1254806260324749315/photo/1', 'type': 'photo', 'sizes': {'thumb': {'w': 150, 'h': 150, 'resize': 'crop'}, 'large': {'w': 2048, 'h': 1154, 'resize': 'fit'}, 'medium': {'w': 1200, 'h': 676, 'resize': 'fit'}, 'small': {'w': 680, 'h': 383, 'resize': 'fit'}}}]}, 'source': '<a href=\"https://about.twitter.com/products/tweetdeck\" rel=\"nofollow\">TweetDeck</a>', 'in_reply_to_status_id': None, 'in_reply_to_status_id_str': None, 'in_reply_to_user_id': None, 'in_reply_to_user_id_str': None, 'in_reply_to_screen_name': None, 'user': {'id': 939091, 'id_str': '939091', 'name': 'Joe Biden', 'screen_name': 'JoeBiden', 'location': 'Wilmington, DE', 'description': 'Senator, Vice President, 2020 candidate for President of the United States, husband to @DrBiden, proud father & grandfather. Loves ice cream, aviators & @Amtrak', 'url': 'https://t.co/UClrPuJpyZ', 'entities': {'url': {'urls': [{'url': 'https://t.co/UClrPuJpyZ', 'expanded_url': 'http://joebiden.com', 'display_url': 'joebiden.com', 'indices': [0, 23]}]}, 'description': {'urls': []}}, 'protected': False, 'followers_count': 5231103, 'friends_count': 26, 'listed_count': 17261, 'created_at': 'Sun Mar 11 17:51:24 +0000 2007', 'favourites_count': 18, 'utc_offset': None, 'time_zone': None, 'geo_enabled': False, 'verified': True, 'statuses_count': 4560, 'lang': None, 'contributors_enabled': False, 'is_translator': False, 'is_translation_enabled': False, 'profile_background_color': '565959', 'profile_background_image_url': 'http://abs.twimg.com/images/themes/theme1/bg.png', 'profile_background_image_url_https': 'https://abs.twimg.com/images/themes/theme1/bg.png', 'profile_background_tile': True, 'profile_image_url': 'http://pbs.twimg.com/profile_images/1235244704859664385/oneP6BrA_normal.jpg', 'profile_image_url_https': 'https://pbs.twimg.com/profile_images/1235244704859664385/oneP6BrA_normal.jpg', 'profile_banner_url': 'https://pbs.twimg.com/profile_banners/939091/1569000846', 'profile_link_color': '233F94', 'profile_sidebar_border_color': 'FFFFFF', 'profile_sidebar_fill_color': 'EBEBFF', 'profile_text_color': '323232', 'profile_use_background_image': True, 'has_extended_profile': False, 'default_profile': False, 'default_profile_image': False, 'following': False, 'follow_request_sent': False, 'notifications': False, 'translator_type': 'none'}, 'geo': None, 'coordinates': None, 'place': None, 'contributors': None, 'is_quote_status': False, 'retweet_count': 1595, 'favorite_count': 5123, 'favorited': False, 'retweeted': False, 'possibly_sensitive': False, 'lang': 'en'}\n"
          ],
          "name": "stdout"
        }
      ]
    },
    {
      "cell_type": "code",
      "metadata": {
        "id": "x5jA750DDaJC",
        "colab_type": "code",
        "outputId": "6c10b76c-9201-45e3-88df-e68988a81c6b",
        "colab": {
          "base_uri": "https://localhost:8080/",
          "height": 34
        }
      },
      "source": [
        "def clean(dict_list, to_change, change_to):\n",
        "    for d in dict_list:\n",
        "      for k,v in d.items():\n",
        "        if k == 'full_text':\n",
        "          # v = ' '.join(v) use if its a list for some stupid fucking reason\n",
        "          v = v.replace('#', '') # no more hash tag characters\n",
        "          v = v.replace('@', '') # no more twitter linking characters\n",
        "          v = v.split(' ') \n",
        "          v = filter(lambda x: 'http' not in x, v) # get rid of https links\n",
        "          v = list(v)\n",
        "          d[k] = ' '.join(v)\n",
        "    return dict_list\n",
        "\n",
        "userTweets = clean(userTweets, '@', '')\n",
        "print(len(userTweets))"
      ],
      "execution_count": 0,
      "outputs": [
        {
          "output_type": "stream",
          "text": [
            "3077\n"
          ],
          "name": "stdout"
        }
      ]
    },
    {
      "cell_type": "code",
      "metadata": {
        "id": "bqmKSMLI2t3V",
        "colab_type": "code",
        "colab": {}
      },
      "source": [
        "import pandas as pd"
      ],
      "execution_count": 0,
      "outputs": []
    },
    {
      "cell_type": "code",
      "metadata": {
        "id": "ofhGFwM22wo1",
        "colab_type": "code",
        "colab": {}
      },
      "source": [
        "userTweetsDf = pd.DataFrame(userTweets, columns=['id_str', 'created_at', 'full_text', 'retweet_count', 'favorite_count', 'lang'])\n",
        "userTweetsDf.insert(1, 'handle', value=handleName)"
      ],
      "execution_count": 0,
      "outputs": []
    },
    {
      "cell_type": "code",
      "metadata": {
        "id": "w2jBzfkH247V",
        "colab_type": "code",
        "outputId": "6465284f-8bd2-481e-c6af-d012d760289f",
        "colab": {
          "base_uri": "https://localhost:8080/",
          "height": 34
        }
      },
      "source": [
        "userTweetsDf.shape"
      ],
      "execution_count": 0,
      "outputs": [
        {
          "output_type": "execute_result",
          "data": {
            "text/plain": [
              "(3077, 7)"
            ]
          },
          "metadata": {
            "tags": []
          },
          "execution_count": 10
        }
      ]
    },
    {
      "cell_type": "code",
      "metadata": {
        "id": "awWwIgXP26PU",
        "colab_type": "code",
        "colab": {}
      },
      "source": [
        "userTweetsDfReduced = pd.DataFrame(userTweetsDf, columns=['id_str', 'created_at', 'full_text', 'retweet_count', 'favorite_count', 'lang'])\n",
        "userTweetsDfReduced.insert(1, 'handle', value=handleName)"
      ],
      "execution_count": 0,
      "outputs": []
    },
    {
      "cell_type": "code",
      "metadata": {
        "id": "GLtBYHwz6SQc",
        "colab_type": "code",
        "outputId": "8db4a6c5-6a15-49fb-ec48-57745ad4ab4d",
        "colab": {
          "base_uri": "https://localhost:8080/",
          "height": 34
        }
      },
      "source": [
        "userTweetsDfReduced = userTweetsDfReduced[~userTweetsDfReduced['full_text'].str.contains('RT')]\n",
        "userTweetsDfReduced = userTweetsDfReduced[userTweetsDfReduced['lang'] == 'en']\n",
        "userTweetsDfReduced.drop(labels=['lang'], axis=1, inplace=True)\n",
        "print(userTweetsDfReduced.shape)"
      ],
      "execution_count": 0,
      "outputs": [
        {
          "output_type": "stream",
          "text": [
            "(3030, 6)\n"
          ],
          "name": "stdout"
        }
      ]
    },
    {
      "cell_type": "code",
      "metadata": {
        "id": "-XzdUGAg8tY8",
        "colab_type": "code",
        "colab": {}
      },
      "source": [
        "userTweetsDfReduced.to_csv(handleName + 'tweets.csv', encoding='utf-8', index=False)"
      ],
      "execution_count": 0,
      "outputs": []
    },
    {
      "cell_type": "code",
      "metadata": {
        "id": "R-uW6bsW84BV",
        "colab_type": "code",
        "colab": {}
      },
      "source": [
        "df = pd.read_csv(handleName + 'tweets.csv')"
      ],
      "execution_count": 0,
      "outputs": []
    },
    {
      "cell_type": "code",
      "metadata": {
        "id": "owJTg7919hDL",
        "colab_type": "code",
        "outputId": "8516231d-b6cc-4afe-e6a2-5df0012fe958",
        "colab": {
          "base_uri": "https://localhost:8080/",
          "height": 289
        }
      },
      "source": [
        "df.head()"
      ],
      "execution_count": 0,
      "outputs": [
        {
          "output_type": "execute_result",
          "data": {
            "text/html": [
              "<div>\n",
              "<style scoped>\n",
              "    .dataframe tbody tr th:only-of-type {\n",
              "        vertical-align: middle;\n",
              "    }\n",
              "\n",
              "    .dataframe tbody tr th {\n",
              "        vertical-align: top;\n",
              "    }\n",
              "\n",
              "    .dataframe thead th {\n",
              "        text-align: right;\n",
              "    }\n",
              "</style>\n",
              "<table border=\"1\" class=\"dataframe\">\n",
              "  <thead>\n",
              "    <tr style=\"text-align: right;\">\n",
              "      <th></th>\n",
              "      <th>id_str</th>\n",
              "      <th>handle</th>\n",
              "      <th>created_at</th>\n",
              "      <th>full_text</th>\n",
              "      <th>retweet_count</th>\n",
              "      <th>favorite_count</th>\n",
              "    </tr>\n",
              "  </thead>\n",
              "  <tbody>\n",
              "    <tr>\n",
              "      <th>0</th>\n",
              "      <td>1254806260324749315</td>\n",
              "      <td>JoeBiden</td>\n",
              "      <td>Mon Apr 27 16:15:00 +0000 2020</td>\n",
              "      <td>COVID-19 can hit anyone, anywhere — but it doe...</td>\n",
              "      <td>1595</td>\n",
              "      <td>5123</td>\n",
              "    </tr>\n",
              "    <tr>\n",
              "      <th>1</th>\n",
              "      <td>1254782856074637319</td>\n",
              "      <td>JoeBiden</td>\n",
              "      <td>Mon Apr 27 14:42:00 +0000 2020</td>\n",
              "      <td>We want our country to get moving and healthy ...</td>\n",
              "      <td>3404</td>\n",
              "      <td>14027</td>\n",
              "    </tr>\n",
              "    <tr>\n",
              "      <th>2</th>\n",
              "      <td>1254756132746379266</td>\n",
              "      <td>JoeBiden</td>\n",
              "      <td>Mon Apr 27 12:55:48 +0000 2020</td>\n",
              "      <td>I'm incredibly honored by SpeakerPelosi's endo...</td>\n",
              "      <td>7296</td>\n",
              "      <td>36031</td>\n",
              "    </tr>\n",
              "    <tr>\n",
              "      <th>3</th>\n",
              "      <td>1254560894576623616</td>\n",
              "      <td>JoeBiden</td>\n",
              "      <td>Mon Apr 27 00:00:00 +0000 2020</td>\n",
              "      <td>America has always met every big challenge wit...</td>\n",
              "      <td>7243</td>\n",
              "      <td>38172</td>\n",
              "    </tr>\n",
              "    <tr>\n",
              "      <th>4</th>\n",
              "      <td>1254538243996921856</td>\n",
              "      <td>JoeBiden</td>\n",
              "      <td>Sun Apr 26 22:30:00 +0000 2020</td>\n",
              "      <td>Wealthy firms with ties to Trump got millions,...</td>\n",
              "      <td>13189</td>\n",
              "      <td>34769</td>\n",
              "    </tr>\n",
              "  </tbody>\n",
              "</table>\n",
              "</div>"
            ],
            "text/plain": [
              "                id_str    handle  ... retweet_count favorite_count\n",
              "0  1254806260324749315  JoeBiden  ...          1595           5123\n",
              "1  1254782856074637319  JoeBiden  ...          3404          14027\n",
              "2  1254756132746379266  JoeBiden  ...          7296          36031\n",
              "3  1254560894576623616  JoeBiden  ...          7243          38172\n",
              "4  1254538243996921856  JoeBiden  ...         13189          34769\n",
              "\n",
              "[5 rows x 6 columns]"
            ]
          },
          "metadata": {
            "tags": []
          },
          "execution_count": 16
        }
      ]
    },
    {
      "cell_type": "code",
      "metadata": {
        "id": "zR16Xapt9h1S",
        "colab_type": "code",
        "colab": {}
      },
      "source": [
        ""
      ],
      "execution_count": 0,
      "outputs": []
    }
  ]
}